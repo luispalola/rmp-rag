{
 "cells": [
  {
   "cell_type": "code",
   "execution_count": 6,
   "metadata": {},
   "outputs": [],
   "source": [
    "from dotenv import load_dotenv\n",
    "load_dotenv()\n",
    "from openai import OpenAI\n",
    "from pinecone import Pinecone, ServerlessSpec\n",
    "import os"
   ]
  },
  {
   "cell_type": "code",
   "execution_count": null,
   "metadata": {},
   "outputs": [],
   "source": [
    "pc = Pinecone(api_key=os.getenv(\"PINECONE_API_KEY\"))\n",
    "pc.create_index(\n",
    "    name=\"rag\",\n",
    "    dimension=1536,\n",
    "    metric=\"cosine\",\n",
    "    spec=ServerlessSpec(cloud=\"aws\", region=\"us-east-1\"),\n",
    ")"
   ]
  },
  {
   "cell_type": "code",
   "execution_count": 13,
   "metadata": {},
   "outputs": [
    {
     "data": {
      "text/plain": [
       "[{'professor': 'Dr. John Smith',\n",
       "  'subject': 'Computer Science',\n",
       "  'stars': 5,\n",
       "  'review': 'Great professor! His lectures are clear and engaging. Highly recommend.'},\n",
       " {'professor': 'Dr. Emily Johnson',\n",
       "  'subject': 'Mathematics',\n",
       "  'stars': 4,\n",
       "  'review': 'Good explanations, but sometimes the material is too advanced.'},\n",
       " {'professor': 'Dr. Mark Williams',\n",
       "  'subject': 'Physics',\n",
       "  'stars': 3,\n",
       "  'review': 'The professor is knowledgeable, but his lectures can be a bit dry.'},\n",
       " {'professor': 'Dr. Susan Brown',\n",
       "  'subject': 'Chemistry',\n",
       "  'stars': 4,\n",
       "  'review': 'She explains concepts well but can be strict with grading.'},\n",
       " {'professor': 'Dr. Michael Davis',\n",
       "  'subject': 'Biology',\n",
       "  'stars': 5,\n",
       "  'review': 'Fantastic lecturer and very approachable. I learned a lot!'},\n",
       " {'professor': 'Dr. Linda Wilson',\n",
       "  'subject': 'History',\n",
       "  'stars': 2,\n",
       "  'review': 'Lectures are too fast-paced and difficult to follow.'},\n",
       " {'professor': 'Dr. James Lee',\n",
       "  'subject': 'Economics',\n",
       "  'stars': 3,\n",
       "  'review': 'Average professor. Some lectures are interesting, others are not.'},\n",
       " {'professor': 'Dr. Patricia Martinez',\n",
       "  'subject': 'Sociology',\n",
       "  'stars': 5,\n",
       "  'review': \"Her classes are very interactive and she cares about students' success.\"},\n",
       " {'professor': 'Dr. Robert Garcia',\n",
       "  'subject': 'Philosophy',\n",
       "  'stars': 4,\n",
       "  'review': 'Good professor, but the material can be challenging to grasp.'},\n",
       " {'professor': 'Dr. Mary Miller',\n",
       "  'subject': 'English',\n",
       "  'stars': 4,\n",
       "  'review': 'Engaging and insightful. She encourages creative thinking.'},\n",
       " {'professor': 'Dr. Richard Anderson',\n",
       "  'subject': 'Political Science',\n",
       "  'stars': 3,\n",
       "  'review': 'Decent lecturer, but his exams are very difficult.'},\n",
       " {'professor': 'Dr. Karen Taylor',\n",
       "  'subject': 'Art History',\n",
       "  'stars': 5,\n",
       "  'review': 'Incredible passion for the subject and it shows in her teaching.'},\n",
       " {'professor': 'Dr. Charles Thomas',\n",
       "  'subject': 'Psychology',\n",
       "  'stars': 4,\n",
       "  'review': 'Interesting lectures, but the grading is quite tough.'},\n",
       " {'professor': 'Dr. Barbara Jackson',\n",
       "  'subject': 'Anthropology',\n",
       "  'stars': 2,\n",
       "  'review': \"The course content is good, but the professor's delivery is monotonous.\"},\n",
       " {'professor': 'Dr. Matthew Harris',\n",
       "  'subject': 'Engineering',\n",
       "  'stars': 5,\n",
       "  'review': \"One of the best professors I've had. Very helpful and knowledgeable.\"},\n",
       " {'professor': 'Dr. Elizabeth Martin',\n",
       "  'subject': 'Literature',\n",
       "  'stars': 3,\n",
       "  'review': 'She knows her stuff, but her teaching style can be hard to follow.'},\n",
       " {'professor': 'Dr. Donald Thompson',\n",
       "  'subject': 'Business',\n",
       "  'stars': 4,\n",
       "  'review': 'Great at connecting theory to real-world applications.'},\n",
       " {'professor': 'Dr. Jennifer White',\n",
       "  'subject': 'Environmental Science',\n",
       "  'stars': 5,\n",
       "  'review': 'Passionate about the subject and very encouraging.'},\n",
       " {'professor': 'Dr. William Jackson',\n",
       "  'subject': 'Statistics',\n",
       "  'stars': 2,\n",
       "  'review': \"Difficult to understand and doesn't explain concepts well.\"},\n",
       " {'professor': 'Dr. Deborah Green',\n",
       "  'subject': 'Philosophy',\n",
       "  'stars': 4,\n",
       "  'review': 'Challenging, but you learn a lot if you put in the effort.'}]"
      ]
     },
     "execution_count": 13,
     "metadata": {},
     "output_type": "execute_result"
    }
   ],
   "source": [
    "import json\n",
    "data = json.load(open(\"reviews.json\"))\n",
    "data['reviews']"
   ]
  },
  {
   "cell_type": "code",
   "execution_count": 9,
   "metadata": {},
   "outputs": [],
   "source": [
    "processed_data = []\n",
    "client = OpenAI()\n",
    "\n",
    "for review in data['reviews']:\n",
    "    response = client.embeddings.create(\n",
    "        input=review['review'],\n",
    "        model=\"text-embedding-3-small\"\n",
    "    )\n",
    "    embedding = response.data[0].embedding\n",
    "    processed_data.append(\n",
    "        {\n",
    "            \"values\": embedding,\n",
    "            \"id\": review[\"professor\"],\n",
    "            \"metadata\":{\n",
    "                \"review\": review[\"review\"],\n",
    "                \"subject\": review[\"subject\"],\n",
    "                \"stars\": review[\"stars\"],\n",
    "            }\n",
    "        }\n",
    "    )"
   ]
  },
  {
   "cell_type": "code",
   "execution_count": null,
   "metadata": {},
   "outputs": [],
   "source": [
    "processed_data[0]"
   ]
  },
  {
   "cell_type": "code",
   "execution_count": 11,
   "metadata": {},
   "outputs": [
    {
     "data": {
      "text/plain": [
       "{'upserted_count': 20}"
      ]
     },
     "execution_count": 11,
     "metadata": {},
     "output_type": "execute_result"
    }
   ],
   "source": [
    "index = pc.Index(\"rag\")\n",
    "index.upsert(\n",
    "    vectors=processed_data,\n",
    "    namespace=\"ns1\",\n",
    ")"
   ]
  },
  {
   "cell_type": "code",
   "execution_count": 12,
   "metadata": {},
   "outputs": [
    {
     "data": {
      "text/plain": [
       "{'dimension': 1536,\n",
       " 'index_fullness': 0.0,\n",
       " 'namespaces': {'ns1': {'vector_count': 20}},\n",
       " 'total_vector_count': 20}"
      ]
     },
     "execution_count": 12,
     "metadata": {},
     "output_type": "execute_result"
    }
   ],
   "source": [
    "index.describe_index_stats()"
   ]
  }
 ],
 "metadata": {
  "kernelspec": {
   "display_name": "rag",
   "language": "python",
   "name": "python3"
  },
  "language_info": {
   "codemirror_mode": {
    "name": "ipython",
    "version": 3
   },
   "file_extension": ".py",
   "mimetype": "text/x-python",
   "name": "python",
   "nbconvert_exporter": "python",
   "pygments_lexer": "ipython3",
   "version": "3.10.4"
  }
 },
 "nbformat": 4,
 "nbformat_minor": 2
}
